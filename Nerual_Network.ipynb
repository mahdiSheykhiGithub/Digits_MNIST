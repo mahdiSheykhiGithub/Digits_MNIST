{
  "nbformat": 4,
  "nbformat_minor": 0,
  "metadata": {
    "colab": {
      "provenance": [],
      "gpuType": "T4",
      "mount_file_id": "1OLyHM56N7aRaZGSEYnlWQAkm63kUE2gq",
      "authorship_tag": "ABX9TyPp03NcIXrNeN46IPh0Toor",
      "include_colab_link": true
    },
    "kernelspec": {
      "name": "python3",
      "display_name": "Python 3"
    },
    "language_info": {
      "name": "python"
    },
    "accelerator": "GPU"
  },
  "cells": [
    {
      "cell_type": "markdown",
      "metadata": {
        "id": "view-in-github",
        "colab_type": "text"
      },
      "source": [
        "<a href=\"https://colab.research.google.com/github/mahdiSheykhiGithub/Digits_MNIST/blob/main/Nerual_Network.ipynb\" target=\"_parent\"><img src=\"https://colab.research.google.com/assets/colab-badge.svg\" alt=\"Open In Colab\"/></a>"
      ]
    },
    {
      "cell_type": "markdown",
      "source": [
        "# Import Libraries and Load Data"
      ],
      "metadata": {
        "id": "7GhfEP_JJoja"
      }
    },
    {
      "cell_type": "code",
      "execution_count": 1,
      "metadata": {
        "id": "mbLuFy2EJA0O"
      },
      "outputs": [],
      "source": [
        "import tensorflow as tf\n",
        "import matplotlib.pyplot as plt\n",
        "from sklearn.metrics import confusion_matrix ,classification_report\n",
        "from tensorflow import keras\n",
        "from tensorflow.keras import utils\n",
        "from tensorflow.keras.datasets import mnist\n",
        "from tensorflow.keras.layers import Dense , Dropout , Flatten"
      ]
    },
    {
      "cell_type": "code",
      "source": [
        "(X_train, y_train), (X_test, y_test) = mnist.load_data()"
      ],
      "metadata": {
        "id": "0wmFvIT1JyAO"
      },
      "execution_count": 2,
      "outputs": []
    },
    {
      "cell_type": "code",
      "source": [
        "print(mnist.load_data.__doc__)"
      ],
      "metadata": {
        "colab": {
          "base_uri": "https://localhost:8080/"
        },
        "id": "3rzPWYvdLO_j",
        "outputId": "3d90571a-6add-4783-b801-61e872903459"
      },
      "execution_count": 3,
      "outputs": [
        {
          "output_type": "stream",
          "name": "stdout",
          "text": [
            "Loads the MNIST dataset.\n",
            "\n",
            "    This is a dataset of 60,000 28x28 grayscale images of the 10 digits,\n",
            "    along with a test set of 10,000 images.\n",
            "    More info can be found at the\n",
            "    [MNIST homepage](http://yann.lecun.com/exdb/mnist/).\n",
            "\n",
            "    Args:\n",
            "      path: path where to cache the dataset locally\n",
            "        (relative to `~/.keras/datasets`).\n",
            "\n",
            "    Returns:\n",
            "      Tuple of NumPy arrays: `(x_train, y_train), (x_test, y_test)`.\n",
            "\n",
            "    **x_train**: uint8 NumPy array of grayscale image data with shapes\n",
            "      `(60000, 28, 28)`, containing the training data. Pixel values range\n",
            "      from 0 to 255.\n",
            "\n",
            "    **y_train**: uint8 NumPy array of digit labels (integers in range 0-9)\n",
            "      with shape `(60000,)` for the training data.\n",
            "\n",
            "    **x_test**: uint8 NumPy array of grayscale image data with shapes\n",
            "      (10000, 28, 28), containing the test data. Pixel values range\n",
            "      from 0 to 255.\n",
            "\n",
            "    **y_test**: uint8 NumPy array of digit labels (integers in range 0-9)\n",
            "      with shape `(10000,)` for the test data.\n",
            "\n",
            "    Example:\n",
            "\n",
            "    ```python\n",
            "    (x_train, y_train), (x_test, y_test) = keras.datasets.mnist.load_data()\n",
            "    assert x_train.shape == (60000, 28, 28)\n",
            "    assert x_test.shape == (10000, 28, 28)\n",
            "    assert y_train.shape == (60000,)\n",
            "    assert y_test.shape == (10000,)\n",
            "    ```\n",
            "\n",
            "    License:\n",
            "      Yann LeCun and Corinna Cortes hold the copyright of MNIST dataset,\n",
            "      which is a derivative work from original NIST datasets.\n",
            "      MNIST dataset is made available under the terms of the\n",
            "      [Creative Commons Attribution-Share Alike 3.0 license.](\n",
            "      https://creativecommons.org/licenses/by-sa/3.0/)\n",
            "    \n"
          ]
        }
      ]
    },
    {
      "cell_type": "code",
      "source": [
        "index = 2\n",
        "plt.imshow(X_train[index], cmap='gray')\n",
        "plt.title(y_train[index])\n",
        "plt.show()"
      ],
      "metadata": {
        "colab": {
          "base_uri": "https://localhost:8080/",
          "height": 452
        },
        "id": "EP18bVXbLXyf",
        "outputId": "606be019-3995-476c-94f4-8bfb842dec1a"
      },
      "execution_count": 4,
      "outputs": [
        {
          "output_type": "display_data",
          "data": {
            "text/plain": [
              "<Figure size 640x480 with 1 Axes>"
            ],
            "image/png": "[encoded data removed]"
          },
          "metadata": {}
        }
      ]
    },
    {
      "cell_type": "markdown",
      "source": [
        "# Modeling"
      ],
      "metadata": {
        "id": "jdZrryeXMRTd"
      }
    },
    {
      "cell_type": "markdown",
      "source": [
        "Normalization"
      ],
      "metadata": {
        "id": "bK8Wl9XrMVf5"
      }
    },
    {
      "cell_type": "code",
      "source": [
        "X_train = X_train / 255\n",
        "X_test = X_test / 255"
      ],
      "metadata": {
        "id": "S0B4y383Lwxi"
      },
      "execution_count": 5,
      "outputs": []
    },
    {
      "cell_type": "code",
      "source": [
        "y_train = utils.to_categorical(y_train)\n",
        "y_test = utils.to_categorical(y_test)"
      ],
      "metadata": {
        "id": "R1CiQENbMpEr"
      },
      "execution_count": 6,
      "outputs": []
    },
    {
      "cell_type": "markdown",
      "source": [
        "Model Architecture"
      ],
      "metadata": {
        "id": "K8gEoZ2oNa2x"
      }
    },
    {
      "cell_type": "code",
      "source": [
        "reg = keras.regularizers.l2(0.00005)\n",
        "model = keras.models.Sequential()\n",
        "model.add(Flatten(input_shape=(28,28), name='flatten'))\n",
        "model.add(Dense(units=256, activation='relu', kernel_regularizer = reg, name='hidden1'))\n",
        "model.add(Dropout(0.45, name='drop1'))\n",
        "model.add(Dense(units=256, activation='relu', kernel_regularizer = reg, name='hidden2' ))\n",
        "model.add(Dropout(0.45, name='drop2'))\n",
        "model.add(Dense(units=256, activation='relu', kernel_regularizer = reg, name='hidden3' ))\n",
        "model.add(Dropout(0.45, name='drop3'))\n",
        "model.add(Dense(10, activation='softmax', name='output'))"
      ],
      "metadata": {
        "id": "xZGgSWzfNCAV"
      },
      "execution_count": 7,
      "outputs": []
    },
    {
      "cell_type": "code",
      "source": [
        "model.summary()"
      ],
      "metadata": {
        "colab": {
          "base_uri": "https://localhost:8080/"
        },
        "id": "qSRhrHiWQrNO",
        "outputId": "f632b4b5-d88f-402e-d0c3-5664b445d08a"
      },
      "execution_count": 8,
      "outputs": [
        {
          "output_type": "stream",
          "name": "stdout",
          "text": [
            "Model: \"sequential\"\n",
            "_________________________________________________________________\n",
            " Layer (type)                Output Shape              Param #   \n",
            "=================================================================\n",
            " flatten (Flatten)           (None, 784)               0         \n",
            "                                                                 \n",
            " hidden1 (Dense)             (None, 256)               200960    \n",
            "                                                                 \n",
            " drop1 (Dropout)             (None, 256)               0         \n",
            "                                                                 \n",
            " hidden2 (Dense)             (None, 256)               65792     \n",
            "                                                                 \n",
            " drop2 (Dropout)             (None, 256)               0         \n",
            "                                                                 \n",
            " hidden3 (Dense)             (None, 256)               65792     \n",
            "                                                                 \n",
            " drop3 (Dropout)             (None, 256)               0         \n",
            "                                                                 \n",
            " output (Dense)              (None, 10)                2570      \n",
            "                                                                 \n",
            "=================================================================\n",
            "Total params: 335114 (1.28 MB)\n",
            "Trainable params: 335114 (1.28 MB)\n",
            "Non-trainable params: 0 (0.00 Byte)\n",
            "_________________________________________________________________\n"
          ]
        }
      ]
    },
    {
      "cell_type": "markdown",
      "source": [
        "Compile Model"
      ],
      "metadata": {
        "id": "mU755D4PQ8uR"
      }
    },
    {
      "cell_type": "code",
      "source": [
        "opt = tf.optimizers.Adam(learning_rate = 0.0001)\n",
        "loss = tf.losses.CategoricalCrossentropy()\n",
        "metrics = tf.metrics.CategoricalAccuracy()\n",
        "model.compile(optimizer=opt, loss=loss, metrics=metrics)"
      ],
      "metadata": {
        "id": "ppqpFfoaQ0R8"
      },
      "execution_count": 9,
      "outputs": []
    },
    {
      "cell_type": "markdown",
      "source": [
        "Fit Model"
      ],
      "metadata": {
        "id": "0nQDTrxLSTGQ"
      }
    },
    {
      "cell_type": "code",
      "source": [
        "history = model.fit(X_train, y_train, batch_size=100, epochs=200, validation_split=0.2, verbose=2)"
      ],
      "metadata": {
        "colab": {
          "base_uri": "https://localhost:8080/"
        },
        "id": "uvwBs_I8SRLt",
        "outputId": "678f2653-37f3-4091-e040-999bb169adc6"
      },
      "execution_count": 10,
      "outputs": [
        {
          "output_type": "stream",
          "name": "stdout",
          "text": [
            "Epoch 1/200\n",
            "480/480 - 8s - loss: 1.4678 - categorical_accuracy: 0.5158 - val_loss: 0.5080 - val_categorical_accuracy: 0.8737 - 8s/epoch - 17ms/step\n",
            "Epoch 2/200\n",
            "480/480 - 3s - loss: 0.6437 - categorical_accuracy: 0.8103 - val_loss: 0.3268 - val_categorical_accuracy: 0.9138 - 3s/epoch - 6ms/step\n",
            "Epoch 3/200\n",
            "480/480 - 4s - loss: 0.4828 - categorical_accuracy: 0.8684 - val_loss: 0.2690 - val_categorical_accuracy: 0.9312 - 4s/epoch - 8ms/step\n",
            "Epoch 4/200\n",
            "480/480 - 3s - loss: 0.4029 - categorical_accuracy: 0.8935 - val_loss: 0.2354 - val_categorical_accuracy: 0.9421 - 3s/epoch - 6ms/step\n",
            "Epoch 5/200\n",
            "480/480 - 3s - loss: 0.3519 - categorical_accuracy: 0.9102 - val_loss: 0.2176 - val_categorical_accuracy: 0.9470 - 3s/epoch - 6ms/step\n",
            "Epoch 6/200\n",
            "480/480 - 2s - loss: 0.3222 - categorical_accuracy: 0.9187 - val_loss: 0.2023 - val_categorical_accuracy: 0.9537 - 2s/epoch - 4ms/step\n",
            "Epoch 7/200\n",
            "480/480 - 2s - loss: 0.2918 - categorical_accuracy: 0.9266 - val_loss: 0.1893 - val_categorical_accuracy: 0.9555 - 2s/epoch - 3ms/step\n",
            "Epoch 8/200\n",
            "480/480 - 3s - loss: 0.2677 - categorical_accuracy: 0.9353 - val_loss: 0.1789 - val_categorical_accuracy: 0.9600 - 3s/epoch - 6ms/step\n",
            "Epoch 9/200\n",
            "480/480 - 2s - loss: 0.2563 - categorical_accuracy: 0.9374 - val_loss: 0.1715 - val_categorical_accuracy: 0.9608 - 2s/epoch - 3ms/step\n",
            "Epoch 10/200\n",
            "480/480 - 2s - loss: 0.2405 - categorical_accuracy: 0.9418 - val_loss: 0.1638 - val_categorical_accuracy: 0.9629 - 2s/epoch - 3ms/step\n",
            "Epoch 11/200\n",
            "480/480 - 2s - loss: 0.2253 - categorical_accuracy: 0.9472 - val_loss: 0.1571 - val_categorical_accuracy: 0.9658 - 2s/epoch - 3ms/step\n",
            "Epoch 12/200\n",
            "480/480 - 2s - loss: 0.2158 - categorical_accuracy: 0.9485 - val_loss: 0.1530 - val_categorical_accuracy: 0.9667 - 2s/epoch - 3ms/step\n",
            "Epoch 13/200\n",
            "480/480 - 2s - loss: 0.2037 - categorical_accuracy: 0.9519 - val_loss: 0.1474 - val_categorical_accuracy: 0.9692 - 2s/epoch - 3ms/step\n",
            "Epoch 14/200\n",
            "480/480 - 2s - loss: 0.1935 - categorical_accuracy: 0.9556 - val_loss: 0.1453 - val_categorical_accuracy: 0.9698 - 2s/epoch - 3ms/step\n",
            "Epoch 15/200\n",
            "480/480 - 2s - loss: 0.1839 - categorical_accuracy: 0.9581 - val_loss: 0.1406 - val_categorical_accuracy: 0.9711 - 2s/epoch - 5ms/step\n",
            "Epoch 16/200\n",
            "480/480 - 2s - loss: 0.1776 - categorical_accuracy: 0.9595 - val_loss: 0.1368 - val_categorical_accuracy: 0.9715 - 2s/epoch - 4ms/step\n",
            "Epoch 17/200\n",
            "480/480 - 2s - loss: 0.1728 - categorical_accuracy: 0.9608 - val_loss: 0.1365 - val_categorical_accuracy: 0.9716 - 2s/epoch - 4ms/step\n",
            "Epoch 18/200\n",
            "480/480 - 2s - loss: 0.1646 - categorical_accuracy: 0.9641 - val_loss: 0.1327 - val_categorical_accuracy: 0.9732 - 2s/epoch - 3ms/step\n",
            "Epoch 19/200\n",
            "480/480 - 2s - loss: 0.1622 - categorical_accuracy: 0.9640 - val_loss: 0.1312 - val_categorical_accuracy: 0.9729 - 2s/epoch - 3ms/step\n",
            "Epoch 20/200\n",
            "480/480 - 2s - loss: 0.1591 - categorical_accuracy: 0.9653 - val_loss: 0.1310 - val_categorical_accuracy: 0.9738 - 2s/epoch - 3ms/step\n",
            "Epoch 21/200\n",
            "480/480 - 2s - loss: 0.1512 - categorical_accuracy: 0.9681 - val_loss: 0.1289 - val_categorical_accuracy: 0.9743 - 2s/epoch - 3ms/step\n",
            "Epoch 22/200\n",
            "480/480 - 2s - loss: 0.1474 - categorical_accuracy: 0.9691 - val_loss: 0.1260 - val_categorical_accuracy: 0.9743 - 2s/epoch - 5ms/step\n",
            "Epoch 23/200\n",
            "480/480 - 2s - loss: 0.1454 - categorical_accuracy: 0.9685 - val_loss: 0.1243 - val_categorical_accuracy: 0.9750 - 2s/epoch - 4ms/step\n",
            "Epoch 24/200\n",
            "480/480 - 2s - loss: 0.1398 - categorical_accuracy: 0.9707 - val_loss: 0.1228 - val_categorical_accuracy: 0.9756 - 2s/epoch - 3ms/step\n",
            "Epoch 25/200\n",
            "480/480 - 2s - loss: 0.1372 - categorical_accuracy: 0.9716 - val_loss: 0.1231 - val_categorical_accuracy: 0.9763 - 2s/epoch - 3ms/step\n",
            "Epoch 26/200\n",
            "480/480 - 2s - loss: 0.1323 - categorical_accuracy: 0.9723 - val_loss: 0.1219 - val_categorical_accuracy: 0.9768 - 2s/epoch - 3ms/step\n",
            "Epoch 27/200\n",
            "480/480 - 2s - loss: 0.1295 - categorical_accuracy: 0.9731 - val_loss: 0.1211 - val_categorical_accuracy: 0.9769 - 2s/epoch - 3ms/step\n",
            "Epoch 28/200\n",
            "480/480 - 2s - loss: 0.1264 - categorical_accuracy: 0.9740 - val_loss: 0.1209 - val_categorical_accuracy: 0.9768 - 2s/epoch - 3ms/step\n",
            "Epoch 29/200\n",
            "480/480 - 2s - loss: 0.1247 - categorical_accuracy: 0.9752 - val_loss: 0.1216 - val_categorical_accuracy: 0.9762 - 2s/epoch - 5ms/step\n",
            "Epoch 30/200\n",
            "480/480 - 2s - loss: 0.1195 - categorical_accuracy: 0.9746 - val_loss: 0.1201 - val_categorical_accuracy: 0.9768 - 2s/epoch - 4ms/step\n",
            "Epoch 31/200\n",
            "480/480 - 2s - loss: 0.1213 - categorical_accuracy: 0.9750 - val_loss: 0.1187 - val_categorical_accuracy: 0.9778 - 2s/epoch - 4ms/step\n",
            "Epoch 32/200\n",
            "480/480 - 2s - loss: 0.1176 - categorical_accuracy: 0.9766 - val_loss: 0.1182 - val_categorical_accuracy: 0.9784 - 2s/epoch - 4ms/step\n",
            "Epoch 33/200\n",
            "480/480 - 2s - loss: 0.1149 - categorical_accuracy: 0.9762 - val_loss: 0.1180 - val_categorical_accuracy: 0.9779 - 2s/epoch - 4ms/step\n",
            "Epoch 34/200\n",
            "480/480 - 2s - loss: 0.1127 - categorical_accuracy: 0.9789 - val_loss: 0.1189 - val_categorical_accuracy: 0.9778 - 2s/epoch - 4ms/step\n",
            "Epoch 35/200\n",
            "480/480 - 2s - loss: 0.1105 - categorical_accuracy: 0.9785 - val_loss: 0.1175 - val_categorical_accuracy: 0.9779 - 2s/epoch - 3ms/step\n",
            "Epoch 36/200\n",
            "480/480 - 2s - loss: 0.1055 - categorical_accuracy: 0.9796 - val_loss: 0.1190 - val_categorical_accuracy: 0.9782 - 2s/epoch - 4ms/step\n",
            "Epoch 37/200\n",
            "480/480 - 2s - loss: 0.1063 - categorical_accuracy: 0.9793 - val_loss: 0.1172 - val_categorical_accuracy: 0.9783 - 2s/epoch - 4ms/step\n",
            "Epoch 38/200\n",
            "480/480 - 2s - loss: 0.1050 - categorical_accuracy: 0.9795 - val_loss: 0.1161 - val_categorical_accuracy: 0.9780 - 2s/epoch - 3ms/step\n",
            "Epoch 39/200\n",
            "480/480 - 2s - loss: 0.1031 - categorical_accuracy: 0.9804 - val_loss: 0.1164 - val_categorical_accuracy: 0.9783 - 2s/epoch - 3ms/step\n",
            "Epoch 40/200\n",
            "480/480 - 2s - loss: 0.1003 - categorical_accuracy: 0.9801 - val_loss: 0.1151 - val_categorical_accuracy: 0.9783 - 2s/epoch - 3ms/step\n",
            "Epoch 41/200\n",
            "480/480 - 2s - loss: 0.0995 - categorical_accuracy: 0.9805 - val_loss: 0.1165 - val_categorical_accuracy: 0.9787 - 2s/epoch - 3ms/step\n",
            "Epoch 42/200\n",
            "480/480 - 2s - loss: 0.0994 - categorical_accuracy: 0.9812 - val_loss: 0.1172 - val_categorical_accuracy: 0.9786 - 2s/epoch - 4ms/step\n",
            "Epoch 43/200\n",
            "480/480 - 2s - loss: 0.0976 - categorical_accuracy: 0.9811 - val_loss: 0.1154 - val_categorical_accuracy: 0.9787 - 2s/epoch - 4ms/step\n",
            "Epoch 44/200\n",
            "480/480 - 2s - loss: 0.0962 - categorical_accuracy: 0.9818 - val_loss: 0.1148 - val_categorical_accuracy: 0.9783 - 2s/epoch - 5ms/step\n",
            "Epoch 45/200\n",
            "480/480 - 2s - loss: 0.0946 - categorical_accuracy: 0.9825 - val_loss: 0.1146 - val_categorical_accuracy: 0.9784 - 2s/epoch - 4ms/step\n",
            "Epoch 46/200\n",
            "480/480 - 2s - loss: 0.0930 - categorical_accuracy: 0.9824 - val_loss: 0.1153 - val_categorical_accuracy: 0.9792 - 2s/epoch - 3ms/step\n",
            "Epoch 47/200\n",
            "480/480 - 2s - loss: 0.0900 - categorical_accuracy: 0.9835 - val_loss: 0.1157 - val_categorical_accuracy: 0.9793 - 2s/epoch - 4ms/step\n",
            "Epoch 48/200\n",
            "480/480 - 2s - loss: 0.0888 - categorical_accuracy: 0.9832 - val_loss: 0.1152 - val_categorical_accuracy: 0.9781 - 2s/epoch - 4ms/step\n",
            "Epoch 49/200\n",
            "480/480 - 2s - loss: 0.0897 - categorical_accuracy: 0.9835 - val_loss: 0.1142 - val_categorical_accuracy: 0.9797 - 2s/epoch - 3ms/step\n",
            "Epoch 50/200\n",
            "480/480 - 2s - loss: 0.0894 - categorical_accuracy: 0.9840 - val_loss: 0.1154 - val_categorical_accuracy: 0.9792 - 2s/epoch - 4ms/step\n",
            "Epoch 51/200\n",
            "480/480 - 2s - loss: 0.0875 - categorical_accuracy: 0.9844 - val_loss: 0.1139 - val_categorical_accuracy: 0.9789 - 2s/epoch - 5ms/step\n",
            "Epoch 52/200\n",
            "480/480 - 2s - loss: 0.0864 - categorical_accuracy: 0.9835 - val_loss: 0.1167 - val_categorical_accuracy: 0.9781 - 2s/epoch - 3ms/step\n",
            "Epoch 53/200\n",
            "480/480 - 2s - loss: 0.0851 - categorical_accuracy: 0.9843 - val_loss: 0.1153 - val_categorical_accuracy: 0.9787 - 2s/epoch - 3ms/step\n",
            "Epoch 54/200\n",
            "480/480 - 2s - loss: 0.0824 - categorical_accuracy: 0.9851 - val_loss: 0.1160 - val_categorical_accuracy: 0.9793 - 2s/epoch - 4ms/step\n",
            "Epoch 55/200\n",
            "480/480 - 2s - loss: 0.0829 - categorical_accuracy: 0.9852 - val_loss: 0.1164 - val_categorical_accuracy: 0.9797 - 2s/epoch - 3ms/step\n",
            "Epoch 56/200\n",
            "480/480 - 2s - loss: 0.0821 - categorical_accuracy: 0.9856 - val_loss: 0.1149 - val_categorical_accuracy: 0.9788 - 2s/epoch - 4ms/step\n",
            "Epoch 57/200\n",
            "480/480 - 2s - loss: 0.0822 - categorical_accuracy: 0.9851 - val_loss: 0.1141 - val_categorical_accuracy: 0.9797 - 2s/epoch - 4ms/step\n",
            "Epoch 58/200\n",
            "480/480 - 2s - loss: 0.0800 - categorical_accuracy: 0.9857 - val_loss: 0.1127 - val_categorical_accuracy: 0.9794 - 2s/epoch - 5ms/step\n",
            "Epoch 59/200\n",
            "480/480 - 2s - loss: 0.0805 - categorical_accuracy: 0.9854 - val_loss: 0.1153 - val_categorical_accuracy: 0.9787 - 2s/epoch - 4ms/step\n",
            "Epoch 60/200\n",
            "480/480 - 2s - loss: 0.0786 - categorical_accuracy: 0.9866 - val_loss: 0.1127 - val_categorical_accuracy: 0.9788 - 2s/epoch - 3ms/step\n",
            "Epoch 61/200\n",
            "480/480 - 2s - loss: 0.0776 - categorical_accuracy: 0.9870 - val_loss: 0.1126 - val_categorical_accuracy: 0.9795 - 2s/epoch - 4ms/step\n",
            "Epoch 62/200\n",
            "480/480 - 2s - loss: 0.0742 - categorical_accuracy: 0.9877 - val_loss: 0.1122 - val_categorical_accuracy: 0.9799 - 2s/epoch - 3ms/step\n",
            "Epoch 63/200\n",
            "480/480 - 2s - loss: 0.0753 - categorical_accuracy: 0.9868 - val_loss: 0.1130 - val_categorical_accuracy: 0.9798 - 2s/epoch - 3ms/step\n",
            "Epoch 64/200\n",
            "480/480 - 2s - loss: 0.0737 - categorical_accuracy: 0.9874 - val_loss: 0.1140 - val_categorical_accuracy: 0.9795 - 2s/epoch - 4ms/step\n",
            "Epoch 65/200\n",
            "480/480 - 2s - loss: 0.0739 - categorical_accuracy: 0.9874 - val_loss: 0.1118 - val_categorical_accuracy: 0.9796 - 2s/epoch - 5ms/step\n",
            "Epoch 66/200\n",
            "480/480 - 2s - loss: 0.0731 - categorical_accuracy: 0.9874 - val_loss: 0.1127 - val_categorical_accuracy: 0.9799 - 2s/epoch - 3ms/step\n",
            "Epoch 67/200\n",
            "480/480 - 2s - loss: 0.0711 - categorical_accuracy: 0.9886 - val_loss: 0.1118 - val_categorical_accuracy: 0.9798 - 2s/epoch - 3ms/step\n",
            "Epoch 68/200\n",
            "480/480 - 2s - loss: 0.0722 - categorical_accuracy: 0.9876 - val_loss: 0.1130 - val_categorical_accuracy: 0.9788 - 2s/epoch - 3ms/step\n",
            "Epoch 69/200\n",
            "480/480 - 2s - loss: 0.0723 - categorical_accuracy: 0.9879 - val_loss: 0.1119 - val_categorical_accuracy: 0.9797 - 2s/epoch - 3ms/step\n",
            "Epoch 70/200\n",
            "480/480 - 2s - loss: 0.0714 - categorical_accuracy: 0.9879 - val_loss: 0.1121 - val_categorical_accuracy: 0.9801 - 2s/epoch - 3ms/step\n",
            "Epoch 71/200\n",
            "480/480 - 2s - loss: 0.0703 - categorical_accuracy: 0.9884 - val_loss: 0.1114 - val_categorical_accuracy: 0.9798 - 2s/epoch - 4ms/step\n",
            "Epoch 72/200\n",
            "480/480 - 2s - loss: 0.0718 - categorical_accuracy: 0.9874 - val_loss: 0.1109 - val_categorical_accuracy: 0.9799 - 2s/epoch - 5ms/step\n",
            "Epoch 73/200\n",
            "480/480 - 2s - loss: 0.0685 - categorical_accuracy: 0.9895 - val_loss: 0.1107 - val_categorical_accuracy: 0.9804 - 2s/epoch - 4ms/step\n",
            "Epoch 74/200\n",
            "480/480 - 2s - loss: 0.0692 - categorical_accuracy: 0.9885 - val_loss: 0.1126 - val_categorical_accuracy: 0.9799 - 2s/epoch - 4ms/step\n",
            "Epoch 75/200\n",
            "480/480 - 2s - loss: 0.0696 - categorical_accuracy: 0.9887 - val_loss: 0.1088 - val_categorical_accuracy: 0.9804 - 2s/epoch - 3ms/step\n",
            "Epoch 76/200\n",
            "480/480 - 2s - loss: 0.0675 - categorical_accuracy: 0.9890 - val_loss: 0.1106 - val_categorical_accuracy: 0.9804 - 2s/epoch - 3ms/step\n",
            "Epoch 77/200\n",
            "480/480 - 2s - loss: 0.0667 - categorical_accuracy: 0.9889 - val_loss: 0.1124 - val_categorical_accuracy: 0.9801 - 2s/epoch - 4ms/step\n",
            "Epoch 78/200\n",
            "480/480 - 2s - loss: 0.0653 - categorical_accuracy: 0.9896 - val_loss: 0.1113 - val_categorical_accuracy: 0.9806 - 2s/epoch - 3ms/step\n",
            "Epoch 79/200\n",
            "480/480 - 2s - loss: 0.0668 - categorical_accuracy: 0.9887 - val_loss: 0.1093 - val_categorical_accuracy: 0.9808 - 2s/epoch - 5ms/step\n",
            "Epoch 80/200\n",
            "480/480 - 2s - loss: 0.0646 - categorical_accuracy: 0.9895 - val_loss: 0.1100 - val_categorical_accuracy: 0.9812 - 2s/epoch - 4ms/step\n",
            "Epoch 81/200\n",
            "480/480 - 2s - loss: 0.0650 - categorical_accuracy: 0.9897 - val_loss: 0.1100 - val_categorical_accuracy: 0.9810 - 2s/epoch - 4ms/step\n",
            "Epoch 82/200\n",
            "480/480 - 2s - loss: 0.0624 - categorical_accuracy: 0.9909 - val_loss: 0.1106 - val_categorical_accuracy: 0.9806 - 2s/epoch - 3ms/step\n",
            "Epoch 83/200\n",
            "480/480 - 2s - loss: 0.0649 - categorical_accuracy: 0.9896 - val_loss: 0.1117 - val_categorical_accuracy: 0.9800 - 2s/epoch - 4ms/step\n",
            "Epoch 84/200\n",
            "480/480 - 2s - loss: 0.0635 - categorical_accuracy: 0.9895 - val_loss: 0.1104 - val_categorical_accuracy: 0.9796 - 2s/epoch - 3ms/step\n",
            "Epoch 85/200\n",
            "480/480 - 2s - loss: 0.0633 - categorical_accuracy: 0.9903 - val_loss: 0.1103 - val_categorical_accuracy: 0.9803 - 2s/epoch - 3ms/step\n",
            "Epoch 86/200\n",
            "480/480 - 3s - loss: 0.0616 - categorical_accuracy: 0.9901 - val_loss: 0.1122 - val_categorical_accuracy: 0.9793 - 3s/epoch - 5ms/step\n",
            "Epoch 87/200\n",
            "480/480 - 2s - loss: 0.0615 - categorical_accuracy: 0.9905 - val_loss: 0.1100 - val_categorical_accuracy: 0.9799 - 2s/epoch - 4ms/step\n",
            "Epoch 88/200\n",
            "480/480 - 2s - loss: 0.0608 - categorical_accuracy: 0.9902 - val_loss: 0.1113 - val_categorical_accuracy: 0.9800 - 2s/epoch - 4ms/step\n",
            "Epoch 89/200\n",
            "480/480 - 2s - loss: 0.0620 - categorical_accuracy: 0.9902 - val_loss: 0.1110 - val_categorical_accuracy: 0.9798 - 2s/epoch - 4ms/step\n",
            "Epoch 90/200\n",
            "480/480 - 2s - loss: 0.0582 - categorical_accuracy: 0.9911 - val_loss: 0.1110 - val_categorical_accuracy: 0.9801 - 2s/epoch - 3ms/step\n",
            "Epoch 91/200\n",
            "480/480 - 2s - loss: 0.0594 - categorical_accuracy: 0.9905 - val_loss: 0.1104 - val_categorical_accuracy: 0.9808 - 2s/epoch - 3ms/step\n",
            "Epoch 92/200\n",
            "480/480 - 2s - loss: 0.0601 - categorical_accuracy: 0.9909 - val_loss: 0.1102 - val_categorical_accuracy: 0.9803 - 2s/epoch - 3ms/step\n",
            "Epoch 93/200\n",
            "480/480 - 2s - loss: 0.0599 - categorical_accuracy: 0.9904 - val_loss: 0.1088 - val_categorical_accuracy: 0.9807 - 2s/epoch - 5ms/step\n",
            "Epoch 94/200\n",
            "480/480 - 2s - loss: 0.0593 - categorical_accuracy: 0.9905 - val_loss: 0.1134 - val_categorical_accuracy: 0.9799 - 2s/epoch - 4ms/step\n",
            "Epoch 95/200\n",
            "480/480 - 2s - loss: 0.0590 - categorical_accuracy: 0.9909 - val_loss: 0.1093 - val_categorical_accuracy: 0.9808 - 2s/epoch - 4ms/step\n",
            "Epoch 96/200\n",
            "480/480 - 2s - loss: 0.0579 - categorical_accuracy: 0.9910 - val_loss: 0.1100 - val_categorical_accuracy: 0.9803 - 2s/epoch - 3ms/step\n",
            "Epoch 97/200\n",
            "480/480 - 2s - loss: 0.0583 - categorical_accuracy: 0.9911 - val_loss: 0.1132 - val_categorical_accuracy: 0.9805 - 2s/epoch - 4ms/step\n",
            "Epoch 98/200\n",
            "480/480 - 2s - loss: 0.0590 - categorical_accuracy: 0.9906 - val_loss: 0.1100 - val_categorical_accuracy: 0.9800 - 2s/epoch - 4ms/step\n",
            "Epoch 99/200\n",
            "480/480 - 2s - loss: 0.0561 - categorical_accuracy: 0.9911 - val_loss: 0.1117 - val_categorical_accuracy: 0.9800 - 2s/epoch - 3ms/step\n",
            "Epoch 100/200\n",
            "480/480 - 2s - loss: 0.0568 - categorical_accuracy: 0.9917 - val_loss: 0.1108 - val_categorical_accuracy: 0.9801 - 2s/epoch - 5ms/step\n",
            "Epoch 101/200\n",
            "480/480 - 2s - loss: 0.0565 - categorical_accuracy: 0.9916 - val_loss: 0.1085 - val_categorical_accuracy: 0.9803 - 2s/epoch - 4ms/step\n",
            "Epoch 102/200\n",
            "480/480 - 2s - loss: 0.0556 - categorical_accuracy: 0.9915 - val_loss: 0.1087 - val_categorical_accuracy: 0.9794 - 2s/epoch - 4ms/step\n",
            "Epoch 103/200\n",
            "480/480 - 2s - loss: 0.0554 - categorical_accuracy: 0.9913 - val_loss: 0.1079 - val_categorical_accuracy: 0.9801 - 2s/epoch - 4ms/step\n",
            "Epoch 104/200\n",
            "480/480 - 2s - loss: 0.0555 - categorical_accuracy: 0.9915 - val_loss: 0.1107 - val_categorical_accuracy: 0.9799 - 2s/epoch - 3ms/step\n",
            "Epoch 105/200\n",
            "480/480 - 2s - loss: 0.0551 - categorical_accuracy: 0.9913 - val_loss: 0.1073 - val_categorical_accuracy: 0.9812 - 2s/epoch - 3ms/step\n",
            "Epoch 106/200\n",
            "480/480 - 2s - loss: 0.0545 - categorical_accuracy: 0.9918 - val_loss: 0.1089 - val_categorical_accuracy: 0.9807 - 2s/epoch - 3ms/step\n",
            "Epoch 107/200\n",
            "480/480 - 2s - loss: 0.0544 - categorical_accuracy: 0.9916 - val_loss: 0.1099 - val_categorical_accuracy: 0.9803 - 2s/epoch - 4ms/step\n",
            "Epoch 108/200\n",
            "480/480 - 2s - loss: 0.0544 - categorical_accuracy: 0.9916 - val_loss: 0.1094 - val_categorical_accuracy: 0.9803 - 2s/epoch - 4ms/step\n",
            "Epoch 109/200\n",
            "480/480 - 2s - loss: 0.0549 - categorical_accuracy: 0.9915 - val_loss: 0.1077 - val_categorical_accuracy: 0.9806 - 2s/epoch - 4ms/step\n",
            "Epoch 110/200\n",
            "480/480 - 2s - loss: 0.0525 - categorical_accuracy: 0.9921 - val_loss: 0.1064 - val_categorical_accuracy: 0.9821 - 2s/epoch - 4ms/step\n",
            "Epoch 111/200\n",
            "480/480 - 2s - loss: 0.0533 - categorical_accuracy: 0.9923 - val_loss: 0.1088 - val_categorical_accuracy: 0.9807 - 2s/epoch - 4ms/step\n",
            "Epoch 112/200\n",
            "480/480 - 2s - loss: 0.0537 - categorical_accuracy: 0.9920 - val_loss: 0.1074 - val_categorical_accuracy: 0.9818 - 2s/epoch - 3ms/step\n",
            "Epoch 113/200\n",
            "480/480 - 2s - loss: 0.0512 - categorical_accuracy: 0.9927 - val_loss: 0.1084 - val_categorical_accuracy: 0.9811 - 2s/epoch - 3ms/step\n",
            "Epoch 114/200\n",
            "480/480 - 2s - loss: 0.0516 - categorical_accuracy: 0.9922 - val_loss: 0.1055 - val_categorical_accuracy: 0.9821 - 2s/epoch - 5ms/step\n",
            "Epoch 115/200\n",
            "480/480 - 2s - loss: 0.0518 - categorical_accuracy: 0.9921 - val_loss: 0.1075 - val_categorical_accuracy: 0.9809 - 2s/epoch - 4ms/step\n",
            "Epoch 116/200\n",
            "480/480 - 2s - loss: 0.0514 - categorical_accuracy: 0.9922 - val_loss: 0.1087 - val_categorical_accuracy: 0.9812 - 2s/epoch - 3ms/step\n",
            "Epoch 117/200\n",
            "480/480 - 2s - loss: 0.0522 - categorical_accuracy: 0.9922 - val_loss: 0.1088 - val_categorical_accuracy: 0.9805 - 2s/epoch - 3ms/step\n",
            "Epoch 118/200\n",
            "480/480 - 2s - loss: 0.0526 - categorical_accuracy: 0.9921 - val_loss: 0.1051 - val_categorical_accuracy: 0.9808 - 2s/epoch - 3ms/step\n",
            "Epoch 119/200\n",
            "480/480 - 2s - loss: 0.0515 - categorical_accuracy: 0.9925 - val_loss: 0.1090 - val_categorical_accuracy: 0.9812 - 2s/epoch - 3ms/step\n",
            "Epoch 120/200\n",
            "480/480 - 2s - loss: 0.0482 - categorical_accuracy: 0.9935 - val_loss: 0.1080 - val_categorical_accuracy: 0.9808 - 2s/epoch - 3ms/step\n",
            "Epoch 121/200\n",
            "480/480 - 2s - loss: 0.0514 - categorical_accuracy: 0.9924 - val_loss: 0.1058 - val_categorical_accuracy: 0.9809 - 2s/epoch - 5ms/step\n",
            "Epoch 122/200\n",
            "480/480 - 2s - loss: 0.0508 - categorical_accuracy: 0.9924 - val_loss: 0.1049 - val_categorical_accuracy: 0.9818 - 2s/epoch - 4ms/step\n",
            "Epoch 123/200\n",
            "480/480 - 2s - loss: 0.0507 - categorical_accuracy: 0.9925 - val_loss: 0.1071 - val_categorical_accuracy: 0.9810 - 2s/epoch - 4ms/step\n",
            "Epoch 124/200\n",
            "480/480 - 2s - loss: 0.0497 - categorical_accuracy: 0.9928 - val_loss: 0.1069 - val_categorical_accuracy: 0.9812 - 2s/epoch - 4ms/step\n",
            "Epoch 125/200\n",
            "480/480 - 2s - loss: 0.0510 - categorical_accuracy: 0.9926 - val_loss: 0.1051 - val_categorical_accuracy: 0.9816 - 2s/epoch - 4ms/step\n",
            "Epoch 126/200\n",
            "480/480 - 2s - loss: 0.0493 - categorical_accuracy: 0.9927 - val_loss: 0.1074 - val_categorical_accuracy: 0.9812 - 2s/epoch - 3ms/step\n",
            "Epoch 127/200\n",
            "480/480 - 2s - loss: 0.0489 - categorical_accuracy: 0.9927 - val_loss: 0.1063 - val_categorical_accuracy: 0.9809 - 2s/epoch - 4ms/step\n",
            "Epoch 128/200\n",
            "480/480 - 2s - loss: 0.0495 - categorical_accuracy: 0.9931 - val_loss: 0.1045 - val_categorical_accuracy: 0.9814 - 2s/epoch - 4ms/step\n",
            "Epoch 129/200\n",
            "480/480 - 2s - loss: 0.0486 - categorical_accuracy: 0.9929 - val_loss: 0.1046 - val_categorical_accuracy: 0.9811 - 2s/epoch - 4ms/step\n",
            "Epoch 130/200\n",
            "480/480 - 2s - loss: 0.0493 - categorical_accuracy: 0.9930 - val_loss: 0.1056 - val_categorical_accuracy: 0.9816 - 2s/epoch - 3ms/step\n",
            "Epoch 131/200\n",
            "480/480 - 2s - loss: 0.0498 - categorical_accuracy: 0.9926 - val_loss: 0.1073 - val_categorical_accuracy: 0.9812 - 2s/epoch - 4ms/step\n",
            "Epoch 132/200\n",
            "480/480 - 2s - loss: 0.0480 - categorical_accuracy: 0.9936 - val_loss: 0.1045 - val_categorical_accuracy: 0.9810 - 2s/epoch - 3ms/step\n",
            "Epoch 133/200\n",
            "480/480 - 2s - loss: 0.0496 - categorical_accuracy: 0.9927 - val_loss: 0.1052 - val_categorical_accuracy: 0.9810 - 2s/epoch - 4ms/step\n",
            "Epoch 134/200\n",
            "480/480 - 2s - loss: 0.0454 - categorical_accuracy: 0.9937 - val_loss: 0.1092 - val_categorical_accuracy: 0.9812 - 2s/epoch - 3ms/step\n",
            "Epoch 135/200\n",
            "480/480 - 2s - loss: 0.0471 - categorical_accuracy: 0.9931 - val_loss: 0.1050 - val_categorical_accuracy: 0.9815 - 2s/epoch - 4ms/step\n",
            "Epoch 136/200\n",
            "480/480 - 2s - loss: 0.0491 - categorical_accuracy: 0.9926 - val_loss: 0.1057 - val_categorical_accuracy: 0.9812 - 2s/epoch - 4ms/step\n",
            "Epoch 137/200\n",
            "480/480 - 2s - loss: 0.0460 - categorical_accuracy: 0.9934 - val_loss: 0.1053 - val_categorical_accuracy: 0.9808 - 2s/epoch - 3ms/step\n",
            "Epoch 138/200\n",
            "480/480 - 2s - loss: 0.0466 - categorical_accuracy: 0.9933 - val_loss: 0.1069 - val_categorical_accuracy: 0.9807 - 2s/epoch - 3ms/step\n",
            "Epoch 139/200\n",
            "480/480 - 2s - loss: 0.0468 - categorical_accuracy: 0.9933 - val_loss: 0.1057 - val_categorical_accuracy: 0.9814 - 2s/epoch - 4ms/step\n",
            "Epoch 140/200\n",
            "480/480 - 2s - loss: 0.0471 - categorical_accuracy: 0.9925 - val_loss: 0.1058 - val_categorical_accuracy: 0.9812 - 2s/epoch - 3ms/step\n",
            "Epoch 141/200\n",
            "480/480 - 2s - loss: 0.0462 - categorical_accuracy: 0.9932 - val_loss: 0.1084 - val_categorical_accuracy: 0.9808 - 2s/epoch - 4ms/step\n",
            "Epoch 142/200\n",
            "480/480 - 2s - loss: 0.0461 - categorical_accuracy: 0.9934 - val_loss: 0.1062 - val_categorical_accuracy: 0.9810 - 2s/epoch - 4ms/step\n",
            "Epoch 143/200\n",
            "480/480 - 2s - loss: 0.0444 - categorical_accuracy: 0.9942 - val_loss: 0.1074 - val_categorical_accuracy: 0.9812 - 2s/epoch - 5ms/step\n",
            "Epoch 144/200\n",
            "480/480 - 2s - loss: 0.0439 - categorical_accuracy: 0.9944 - val_loss: 0.1099 - val_categorical_accuracy: 0.9808 - 2s/epoch - 3ms/step\n",
            "Epoch 145/200\n",
            "480/480 - 2s - loss: 0.0456 - categorical_accuracy: 0.9937 - val_loss: 0.1072 - val_categorical_accuracy: 0.9812 - 2s/epoch - 4ms/step\n",
            "Epoch 146/200\n",
            "480/480 - 2s - loss: 0.0439 - categorical_accuracy: 0.9944 - val_loss: 0.1053 - val_categorical_accuracy: 0.9813 - 2s/epoch - 3ms/step\n",
            "Epoch 147/200\n",
            "480/480 - 2s - loss: 0.0448 - categorical_accuracy: 0.9941 - val_loss: 0.1062 - val_categorical_accuracy: 0.9818 - 2s/epoch - 4ms/step\n",
            "Epoch 148/200\n",
            "480/480 - 2s - loss: 0.0452 - categorical_accuracy: 0.9930 - val_loss: 0.1069 - val_categorical_accuracy: 0.9813 - 2s/epoch - 4ms/step\n",
            "Epoch 149/200\n",
            "480/480 - 2s - loss: 0.0426 - categorical_accuracy: 0.9940 - val_loss: 0.1055 - val_categorical_accuracy: 0.9820 - 2s/epoch - 4ms/step\n",
            "Epoch 150/200\n",
            "480/480 - 2s - loss: 0.0437 - categorical_accuracy: 0.9939 - val_loss: 0.1074 - val_categorical_accuracy: 0.9808 - 2s/epoch - 5ms/step\n",
            "Epoch 151/200\n",
            "480/480 - 2s - loss: 0.0434 - categorical_accuracy: 0.9944 - val_loss: 0.1096 - val_categorical_accuracy: 0.9809 - 2s/epoch - 3ms/step\n",
            "Epoch 152/200\n",
            "480/480 - 2s - loss: 0.0442 - categorical_accuracy: 0.9934 - val_loss: 0.1034 - val_categorical_accuracy: 0.9824 - 2s/epoch - 4ms/step\n",
            "Epoch 153/200\n",
            "480/480 - 2s - loss: 0.0455 - categorical_accuracy: 0.9933 - val_loss: 0.1054 - val_categorical_accuracy: 0.9811 - 2s/epoch - 3ms/step\n",
            "Epoch 154/200\n",
            "480/480 - 2s - loss: 0.0430 - categorical_accuracy: 0.9938 - val_loss: 0.1050 - val_categorical_accuracy: 0.9815 - 2s/epoch - 3ms/step\n",
            "Epoch 155/200\n",
            "480/480 - 2s - loss: 0.0444 - categorical_accuracy: 0.9935 - val_loss: 0.1030 - val_categorical_accuracy: 0.9818 - 2s/epoch - 3ms/step\n",
            "Epoch 156/200\n",
            "480/480 - 2s - loss: 0.0443 - categorical_accuracy: 0.9938 - val_loss: 0.1112 - val_categorical_accuracy: 0.9802 - 2s/epoch - 4ms/step\n",
            "Epoch 157/200\n",
            "480/480 - 3s - loss: 0.0433 - categorical_accuracy: 0.9935 - val_loss: 0.1051 - val_categorical_accuracy: 0.9812 - 3s/epoch - 5ms/step\n",
            "Epoch 158/200\n",
            "480/480 - 2s - loss: 0.0433 - categorical_accuracy: 0.9940 - val_loss: 0.1072 - val_categorical_accuracy: 0.9807 - 2s/epoch - 3ms/step\n",
            "Epoch 159/200\n",
            "480/480 - 2s - loss: 0.0438 - categorical_accuracy: 0.9938 - val_loss: 0.1046 - val_categorical_accuracy: 0.9815 - 2s/epoch - 3ms/step\n",
            "Epoch 160/200\n",
            "480/480 - 2s - loss: 0.0420 - categorical_accuracy: 0.9943 - val_loss: 0.1068 - val_categorical_accuracy: 0.9810 - 2s/epoch - 3ms/step\n",
            "Epoch 161/200\n",
            "480/480 - 2s - loss: 0.0408 - categorical_accuracy: 0.9952 - val_loss: 0.1053 - val_categorical_accuracy: 0.9811 - 2s/epoch - 4ms/step\n",
            "Epoch 162/200\n",
            "480/480 - 2s - loss: 0.0451 - categorical_accuracy: 0.9936 - val_loss: 0.1051 - val_categorical_accuracy: 0.9808 - 2s/epoch - 3ms/step\n",
            "Epoch 163/200\n",
            "480/480 - 2s - loss: 0.0422 - categorical_accuracy: 0.9943 - val_loss: 0.1068 - val_categorical_accuracy: 0.9811 - 2s/epoch - 3ms/step\n",
            "Epoch 164/200\n",
            "480/480 - 2s - loss: 0.0420 - categorical_accuracy: 0.9942 - val_loss: 0.1047 - val_categorical_accuracy: 0.9817 - 2s/epoch - 5ms/step\n",
            "Epoch 165/200\n",
            "480/480 - 2s - loss: 0.0428 - categorical_accuracy: 0.9936 - val_loss: 0.1050 - val_categorical_accuracy: 0.9810 - 2s/epoch - 4ms/step\n",
            "Epoch 166/200\n",
            "480/480 - 2s - loss: 0.0440 - categorical_accuracy: 0.9931 - val_loss: 0.1059 - val_categorical_accuracy: 0.9813 - 2s/epoch - 4ms/step\n",
            "Epoch 167/200\n",
            "480/480 - 2s - loss: 0.0417 - categorical_accuracy: 0.9941 - val_loss: 0.1054 - val_categorical_accuracy: 0.9809 - 2s/epoch - 4ms/step\n",
            "Epoch 168/200\n",
            "480/480 - 2s - loss: 0.0440 - categorical_accuracy: 0.9935 - val_loss: 0.1049 - val_categorical_accuracy: 0.9810 - 2s/epoch - 3ms/step\n",
            "Epoch 169/200\n",
            "480/480 - 2s - loss: 0.0428 - categorical_accuracy: 0.9939 - val_loss: 0.1058 - val_categorical_accuracy: 0.9812 - 2s/epoch - 4ms/step\n",
            "Epoch 170/200\n",
            "480/480 - 2s - loss: 0.0399 - categorical_accuracy: 0.9946 - val_loss: 0.1055 - val_categorical_accuracy: 0.9811 - 2s/epoch - 3ms/step\n",
            "Epoch 171/200\n",
            "480/480 - 2s - loss: 0.0421 - categorical_accuracy: 0.9937 - val_loss: 0.1032 - val_categorical_accuracy: 0.9824 - 2s/epoch - 5ms/step\n",
            "Epoch 172/200\n",
            "480/480 - 2s - loss: 0.0417 - categorical_accuracy: 0.9939 - val_loss: 0.1062 - val_categorical_accuracy: 0.9817 - 2s/epoch - 4ms/step\n",
            "Epoch 173/200\n",
            "480/480 - 2s - loss: 0.0401 - categorical_accuracy: 0.9946 - val_loss: 0.1041 - val_categorical_accuracy: 0.9817 - 2s/epoch - 3ms/step\n",
            "Epoch 174/200\n",
            "480/480 - 2s - loss: 0.0401 - categorical_accuracy: 0.9948 - val_loss: 0.1036 - val_categorical_accuracy: 0.9818 - 2s/epoch - 4ms/step\n",
            "Epoch 175/200\n",
            "480/480 - 2s - loss: 0.0424 - categorical_accuracy: 0.9941 - val_loss: 0.1039 - val_categorical_accuracy: 0.9809 - 2s/epoch - 4ms/step\n",
            "Epoch 176/200\n",
            "480/480 - 2s - loss: 0.0418 - categorical_accuracy: 0.9943 - val_loss: 0.1058 - val_categorical_accuracy: 0.9809 - 2s/epoch - 4ms/step\n",
            "Epoch 177/200\n",
            "480/480 - 2s - loss: 0.0392 - categorical_accuracy: 0.9947 - val_loss: 0.1047 - val_categorical_accuracy: 0.9816 - 2s/epoch - 3ms/step\n",
            "Epoch 178/200\n",
            "480/480 - 2s - loss: 0.0406 - categorical_accuracy: 0.9942 - val_loss: 0.1048 - val_categorical_accuracy: 0.9806 - 2s/epoch - 5ms/step\n",
            "Epoch 179/200\n",
            "480/480 - 2s - loss: 0.0400 - categorical_accuracy: 0.9945 - val_loss: 0.1029 - val_categorical_accuracy: 0.9812 - 2s/epoch - 4ms/step\n",
            "Epoch 180/200\n",
            "480/480 - 2s - loss: 0.0395 - categorical_accuracy: 0.9948 - val_loss: 0.1059 - val_categorical_accuracy: 0.9819 - 2s/epoch - 3ms/step\n",
            "Epoch 181/200\n",
            "480/480 - 2s - loss: 0.0418 - categorical_accuracy: 0.9942 - val_loss: 0.1036 - val_categorical_accuracy: 0.9809 - 2s/epoch - 4ms/step\n",
            "Epoch 182/200\n",
            "480/480 - 2s - loss: 0.0402 - categorical_accuracy: 0.9943 - val_loss: 0.1027 - val_categorical_accuracy: 0.9815 - 2s/epoch - 4ms/step\n",
            "Epoch 183/200\n",
            "480/480 - 2s - loss: 0.0407 - categorical_accuracy: 0.9947 - val_loss: 0.1029 - val_categorical_accuracy: 0.9816 - 2s/epoch - 3ms/step\n",
            "Epoch 184/200\n",
            "480/480 - 2s - loss: 0.0393 - categorical_accuracy: 0.9950 - val_loss: 0.1022 - val_categorical_accuracy: 0.9818 - 2s/epoch - 3ms/step\n",
            "Epoch 185/200\n",
            "480/480 - 2s - loss: 0.0405 - categorical_accuracy: 0.9946 - val_loss: 0.1009 - val_categorical_accuracy: 0.9822 - 2s/epoch - 5ms/step\n",
            "Epoch 186/200\n",
            "480/480 - 2s - loss: 0.0390 - categorical_accuracy: 0.9948 - val_loss: 0.1030 - val_categorical_accuracy: 0.9819 - 2s/epoch - 4ms/step\n",
            "Epoch 187/200\n",
            "480/480 - 2s - loss: 0.0402 - categorical_accuracy: 0.9940 - val_loss: 0.1049 - val_categorical_accuracy: 0.9814 - 2s/epoch - 3ms/step\n",
            "Epoch 188/200\n",
            "480/480 - 2s - loss: 0.0393 - categorical_accuracy: 0.9945 - val_loss: 0.1038 - val_categorical_accuracy: 0.9806 - 2s/epoch - 4ms/step\n",
            "Epoch 189/200\n",
            "480/480 - 2s - loss: 0.0393 - categorical_accuracy: 0.9948 - val_loss: 0.1048 - val_categorical_accuracy: 0.9813 - 2s/epoch - 4ms/step\n",
            "Epoch 190/200\n",
            "480/480 - 2s - loss: 0.0391 - categorical_accuracy: 0.9948 - val_loss: 0.1018 - val_categorical_accuracy: 0.9805 - 2s/epoch - 3ms/step\n",
            "Epoch 191/200\n",
            "480/480 - 2s - loss: 0.0388 - categorical_accuracy: 0.9948 - val_loss: 0.1013 - val_categorical_accuracy: 0.9817 - 2s/epoch - 4ms/step\n",
            "Epoch 192/200\n",
            "480/480 - 2s - loss: 0.0384 - categorical_accuracy: 0.9945 - val_loss: 0.1025 - val_categorical_accuracy: 0.9812 - 2s/epoch - 5ms/step\n",
            "Epoch 193/200\n",
            "480/480 - 2s - loss: 0.0398 - categorical_accuracy: 0.9943 - val_loss: 0.1034 - val_categorical_accuracy: 0.9813 - 2s/epoch - 4ms/step\n",
            "Epoch 194/200\n",
            "480/480 - 2s - loss: 0.0381 - categorical_accuracy: 0.9945 - val_loss: 0.1047 - val_categorical_accuracy: 0.9816 - 2s/epoch - 3ms/step\n",
            "Epoch 195/200\n",
            "480/480 - 2s - loss: 0.0388 - categorical_accuracy: 0.9948 - val_loss: 0.1043 - val_categorical_accuracy: 0.9805 - 2s/epoch - 3ms/step\n",
            "Epoch 196/200\n",
            "480/480 - 2s - loss: 0.0395 - categorical_accuracy: 0.9946 - val_loss: 0.1014 - val_categorical_accuracy: 0.9818 - 2s/epoch - 3ms/step\n",
            "Epoch 197/200\n",
            "480/480 - 2s - loss: 0.0390 - categorical_accuracy: 0.9945 - val_loss: 0.1053 - val_categorical_accuracy: 0.9811 - 2s/epoch - 4ms/step\n",
            "Epoch 198/200\n",
            "480/480 - 2s - loss: 0.0378 - categorical_accuracy: 0.9947 - val_loss: 0.1038 - val_categorical_accuracy: 0.9813 - 2s/epoch - 5ms/step\n",
            "Epoch 199/200\n",
            "480/480 - 3s - loss: 0.0384 - categorical_accuracy: 0.9947 - val_loss: 0.1026 - val_categorical_accuracy: 0.9808 - 3s/epoch - 6ms/step\n",
            "Epoch 200/200\n",
            "480/480 - 2s - loss: 0.0379 - categorical_accuracy: 0.9945 - val_loss: 0.1050 - val_categorical_accuracy: 0.9809 - 2s/epoch - 4ms/step\n"
          ]
        }
      ]
    },
    {
      "cell_type": "markdown",
      "source": [
        "# Testing and Evaluation"
      ],
      "metadata": {
        "id": "00TqPEomz0mX"
      }
    },
    {
      "cell_type": "code",
      "source": [
        "model.evaluate(X_test, y_test)"
      ],
      "metadata": {
        "colab": {
          "base_uri": "https://localhost:8080/"
        },
        "id": "1GO55ZeBSIQ2",
        "outputId": "b8d36819-88fa-4d3f-ae55-01c034a27030"
      },
      "execution_count": 11,
      "outputs": [
        {
          "output_type": "stream",
          "name": "stdout",
          "text": [
            "313/313 [==============================] - 1s 2ms/step - loss: 0.0981 - categorical_accuracy: 0.9820\n"
          ]
        },
        {
          "output_type": "execute_result",
          "data": {
            "text/plain": [
              "[0.09810693562030792, 0.9819999933242798]"
            ]
          },
          "metadata": {},
          "execution_count": 11
        }
      ]
    },
    {
      "cell_type": "code",
      "source": [
        "y_prob = model.predict(X_test)\n",
        "y_pred = y_prob.argmax(axis=1)\n",
        "y_true = y_test.argmax(axis=1)\n",
        "print(confusion_matrix(y_pred, y_true))"
      ],
      "metadata": {
        "colab": {
          "base_uri": "https://localhost:8080/"
        },
        "id": "fKlNPo_0eXDi",
        "outputId": "06530472-0fa7-4756-a416-126441238471"
      },
      "execution_count": 12,
      "outputs": [
        {
          "output_type": "stream",
          "name": "stdout",
          "text": [
            "313/313 [==============================] - 1s 2ms/step\n",
            "[[ 970    0    3    0    0    2    4    1    2    2]\n",
            " [   1 1127    1    0    0    0    2    3    0    4]\n",
            " [   1    2 1014    2    3    0    0    9    4    0]\n",
            " [   1    1    3  997    0   11    1    2    7    8]\n",
            " [   0    0    2    0  965    1    3    0    4    5]\n",
            " [   1    1    0    4    0  869    3    0    3    3]\n",
            " [   3    2    1    0    3    5  943    0    1    0]\n",
            " [   1    0    7    5    0    0    0 1010    4    6]\n",
            " [   2    2    1    1    3    3    2    0  946    2]\n",
            " [   0    0    0    1    8    1    0    3    3  979]]\n"
          ]
        }
      ]
    },
    {
      "cell_type": "code",
      "source": [
        "print(classification_report(y_pred, y_true))"
      ],
      "metadata": {
        "colab": {
          "base_uri": "https://localhost:8080/"
        },
        "id": "oc9VPaJYwDTl",
        "outputId": "bad654a0-6955-4416-9b6b-72f783a3f82d"
      },
      "execution_count": 13,
      "outputs": [
        {
          "output_type": "stream",
          "name": "stdout",
          "text": [
            "              precision    recall  f1-score   support\n",
            "\n",
            "           0       0.99      0.99      0.99       984\n",
            "           1       0.99      0.99      0.99      1138\n",
            "           2       0.98      0.98      0.98      1035\n",
            "           3       0.99      0.97      0.98      1031\n",
            "           4       0.98      0.98      0.98       980\n",
            "           5       0.97      0.98      0.98       884\n",
            "           6       0.98      0.98      0.98       958\n",
            "           7       0.98      0.98      0.98      1033\n",
            "           8       0.97      0.98      0.98       962\n",
            "           9       0.97      0.98      0.98       995\n",
            "\n",
            "    accuracy                           0.98     10000\n",
            "   macro avg       0.98      0.98      0.98     10000\n",
            "weighted avg       0.98      0.98      0.98     10000\n",
            "\n"
          ]
        }
      ]
    },
    {
      "cell_type": "code",
      "source": [
        "plt.plot(history.history['loss'])\n",
        "plt.plot(history.history['val_loss'])\n",
        "plt.title('Train loss VS Val Loss')\n",
        "plt.show()"
      ],
      "metadata": {
        "colab": {
          "base_uri": "https://localhost:8080/",
          "height": 452
        },
        "id": "a0jgq8WmwoG0",
        "outputId": "7392c9e9-1071-4295-d31a-67008e5b5bb2"
      },
      "execution_count": 14,
      "outputs": [
        {
          "output_type": "display_data",
          "data": {
            "text/plain": [
              "<Figure size 640x480 with 1 Axes>"
            ],
            "image/png": "[encoded data removed]"
          },
          "metadata": {}
        }
      ]
    },
    {
      "cell_type": "code",
      "source": [
        "plt.plot(history.history['categorical_accuracy'])\n",
        "plt.plot(history.history['val_categorical_accuracy'])\n",
        "plt.title('Train accuracy VS Val accuracy')\n",
        "plt.show()"
      ],
      "metadata": {
        "colab": {
          "base_uri": "https://localhost:8080/",
          "height": 452
        },
        "id": "-9kUq_aM0_MH",
        "outputId": "40ad9fe9-1108-4966-bb67-ce8f01f631d6"
      },
      "execution_count": 15,
      "outputs": [
        {
          "output_type": "display_data",
          "data": {
            "text/plain": [
              "<Figure size 640x480 with 1 Axes>"
            ],
            "image/png": "[encoded data removed]"
          },
          "metadata": {}
        }
      ]
    }
  ]
}